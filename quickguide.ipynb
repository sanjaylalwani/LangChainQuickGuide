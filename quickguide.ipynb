{
 "cells": [
  {
   "cell_type": "code",
   "execution_count": null,
   "id": "d746e211",
   "metadata": {},
   "outputs": [],
   "source": [
    "pip install langchain"
   ]
  },
  {
   "cell_type": "code",
   "execution_count": null,
   "id": "9fd380fa",
   "metadata": {},
   "outputs": [],
   "source": [
    "pip install openai"
   ]
  },
  {
   "cell_type": "code",
   "execution_count": 1,
   "id": "48c2669f",
   "metadata": {},
   "outputs": [],
   "source": [
    "import os\n",
    "os.environ[\"OPENAI_API_KEY\"]=\"...\""
   ]
  },
  {
   "cell_type": "code",
   "execution_count": 48,
   "id": "9e90363d",
   "metadata": {},
   "outputs": [],
   "source": [
    "from langchain.llms import OpenAI\n",
    "\n",
    "llm = OpenAI(temperature=0.9)"
   ]
  },
  {
   "cell_type": "code",
   "execution_count": 56,
   "id": "aa6680d9",
   "metadata": {},
   "outputs": [
    {
     "data": {
      "text/plain": [
       "'\\n\\nIndian Groom Wear Co.'"
      ]
     },
     "execution_count": 56,
     "metadata": {},
     "output_type": "execute_result"
    }
   ],
   "source": [
    "llm.predict(\"What would be a good company name for a company that makes Indian bridal wears for mens?\")"
   ]
  },
  {
   "cell_type": "code",
   "execution_count": 4,
   "id": "d30a7b63",
   "metadata": {},
   "outputs": [
    {
     "data": {
      "text/plain": [
       "AIMessage(content='मुझे टीवी पर फिल्में और खेल देखना पसंद है।', additional_kwargs={}, example=False)"
      ]
     },
     "execution_count": 4,
     "metadata": {},
     "output_type": "execute_result"
    }
   ],
   "source": [
    "from langchain.chat_models import ChatOpenAI\n",
    "from langchain.schema import (\n",
    "    AIMessage,\n",
    "    HumanMessage,\n",
    "    SystemMessage\n",
    ")\n",
    "\n",
    "chat = ChatOpenAI(temperature=0)\n",
    "chat.predict_messages([HumanMessage(content=\"Translate this sentence from English to Hindi. I love watching movies and sports on TV.\")])\n"
   ]
  },
  {
   "cell_type": "code",
   "execution_count": 6,
   "id": "e6faa508",
   "metadata": {},
   "outputs": [
    {
     "data": {
      "text/plain": [
       "'मुझे टीवी पर फिल्में और खेल देखना पसंद है।'"
      ]
     },
     "execution_count": 6,
     "metadata": {},
     "output_type": "execute_result"
    }
   ],
   "source": [
    "chat.predict(\"Translate this sentence from English to Hindi. I love watching movies and sports on TV.\")\n"
   ]
  },
  {
   "cell_type": "markdown",
   "id": "4903df69",
   "metadata": {},
   "source": [
    "# Prompt templates"
   ]
  },
  {
   "cell_type": "code",
   "execution_count": 16,
   "id": "e7386e29",
   "metadata": {},
   "outputs": [
    {
     "data": {
      "text/plain": [
       "'What is a good team name for cricket franchise of USA Premier League California? Name should be close to Indians'"
      ]
     },
     "execution_count": 16,
     "metadata": {},
     "output_type": "execute_result"
    }
   ],
   "source": [
    "from langchain.prompts import PromptTemplate\n",
    "\n",
    "prompt = PromptTemplate.from_template(\"What is a good team name for cricket franchise of USA Premier League {city}? Name should be close to Indians\")\n",
    "prompt.format(city=\"California\")"
   ]
  },
  {
   "cell_type": "code",
   "execution_count": 8,
   "id": "ebde8920",
   "metadata": {},
   "outputs": [
    {
     "data": {
      "text/plain": [
       "'\"Love Strikes Back: A Shahrukh-Deepika Action Comedy\"'"
      ]
     },
     "execution_count": 8,
     "metadata": {},
     "output_type": "execute_result"
    }
   ],
   "source": [
    "chat.predict('What is a good name for a movie which have action, love compdy, actor - shahrukh khan, actress - Deepika Padukone?')"
   ]
  },
  {
   "cell_type": "code",
   "execution_count": 18,
   "id": "ff337aa5",
   "metadata": {},
   "outputs": [
    {
     "data": {
      "text/plain": [
       "'\\n\\nGolden State Cavaliers'"
      ]
     },
     "execution_count": 18,
     "metadata": {},
     "output_type": "execute_result"
    }
   ],
   "source": [
    "from langchain.chains import LLMChain\n",
    "\n",
    "chain = LLMChain(llm=llm, prompt=prompt)\n",
    "chain.run(\"California\")"
   ]
  },
  {
   "cell_type": "markdown",
   "id": "2178f020",
   "metadata": {},
   "source": [
    "# Chains"
   ]
  },
  {
   "cell_type": "code",
   "execution_count": 20,
   "id": "31e83a10",
   "metadata": {},
   "outputs": [
    {
     "data": {
      "text/plain": [
       "'\\n\\nCalifornia Kalamkaras'"
      ]
     },
     "execution_count": 20,
     "metadata": {},
     "output_type": "execute_result"
    }
   ],
   "source": [
    "from langchain.chains import LLMChain\n",
    "\n",
    "chain = LLMChain(llm=llm, prompt=prompt)\n"
   ]
  },
  {
   "cell_type": "code",
   "execution_count": 21,
   "id": "c4da9352",
   "metadata": {},
   "outputs": [
    {
     "data": {
      "text/plain": [
       "'\\n\\nCalifornia Mahindras'"
      ]
     },
     "execution_count": 21,
     "metadata": {},
     "output_type": "execute_result"
    }
   ],
   "source": [
    "chain.run(\"California\")"
   ]
  },
  {
   "cell_type": "markdown",
   "id": "c13342af",
   "metadata": {},
   "source": [
    "# Agents"
   ]
  },
  {
   "cell_type": "code",
   "execution_count": 22,
   "id": "1d33636c",
   "metadata": {},
   "outputs": [
    {
     "name": "stdout",
     "output_type": "stream",
     "text": [
      "Collecting google-search-results\n",
      "  Downloading google_search_results-2.4.2.tar.gz (18 kB)\n",
      "Requirement already satisfied: requests in c:\\users\\dell\\anaconda3\\lib\\site-packages (from google-search-results) (2.26.0)\n",
      "Requirement already satisfied: certifi>=2017.4.17 in c:\\users\\dell\\anaconda3\\lib\\site-packages (from requests->google-search-results) (2023.5.7)\n",
      "Requirement already satisfied: idna<4,>=2.5 in c:\\users\\dell\\anaconda3\\lib\\site-packages (from requests->google-search-results) (3.2)\n",
      "Requirement already satisfied: charset-normalizer~=2.0.0 in c:\\users\\dell\\anaconda3\\lib\\site-packages (from requests->google-search-results) (2.0.4)\n",
      "Requirement already satisfied: urllib3<1.27,>=1.21.1 in c:\\users\\dell\\anaconda3\\lib\\site-packages (from requests->google-search-results) (1.26.7)\n",
      "Building wheels for collected packages: google-search-results\n",
      "  Building wheel for google-search-results (setup.py): started\n",
      "  Building wheel for google-search-results (setup.py): finished with status 'done'\n",
      "  Created wheel for google-search-results: filename=google_search_results-2.4.2-py3-none-any.whl size=32017 sha256=509bf3907e7caa3dfffa33a2ad38b60ae430cd8c7d4e61453c9a56ac661c432a\n",
      "  Stored in directory: c:\\users\\dell\\appdata\\local\\pip\\cache\\wheels\\68\\8e\\73\\744b7d9d7ac618849d93081a20e1c0deccd2aef90901c9f5a9\n",
      "Successfully built google-search-results\n",
      "Installing collected packages: google-search-results\n",
      "Successfully installed google-search-results-2.4.2\n",
      "Note: you may need to restart the kernel to use updated packages.\n"
     ]
    }
   ],
   "source": [
    "pip install google-search-results"
   ]
  },
  {
   "cell_type": "code",
   "execution_count": 24,
   "id": "d00526ef",
   "metadata": {},
   "outputs": [],
   "source": [
    "os.environ[\"SERPAPI_API_KEY\"] = \"...\""
   ]
  },
  {
   "cell_type": "code",
   "execution_count": 29,
   "id": "fafd142c",
   "metadata": {},
   "outputs": [],
   "source": [
    "from langchain.agents import AgentType, initialize_agent, load_tools\n",
    "from langchain.llms import OpenAI\n",
    "\n",
    "# The language model we're going to use to control the agent.\n",
    "llm = OpenAI(temperature=0)\n",
    "\n",
    "# The tools we'll give the Agent access to. Note that the 'llm-math' tool uses an LLM, so we need to pass that in.\n",
    "tools = load_tools([\"serpapi\", \"llm-math\"], llm=llm)\n",
    "\n",
    "# Finally, let's initialize an agent with the tools, the language model, and the type of agent we want to use.\n",
    "agent = initialize_agent(tools, llm, agent=AgentType.ZERO_SHOT_REACT_DESCRIPTION, verbose=True)"
   ]
  },
  {
   "cell_type": "code",
   "execution_count": 30,
   "id": "89322ed5",
   "metadata": {},
   "outputs": [
    {
     "name": "stdout",
     "output_type": "stream",
     "text": [
      "\n",
      "\n",
      "\u001b[1m> Entering new AgentExecutor chain...\u001b[0m\n",
      "\u001b[32;1m\u001b[1;3m I need to find the temperature in Fahrenheit and then use a calculator to raise it to the .023 power.\n",
      "Action: Search\n",
      "Action Input: \"High temperature in Mumbai yesterday in Fahrenheit\"\u001b[0m\n",
      "Observation: \u001b[36;1m\u001b[1;3m80 °F · 88 °F · 89 °F ...\u001b[0m\n",
      "Thought:\u001b[32;1m\u001b[1;3m I now need to use a calculator to raise the temperature to the .023 power.\n",
      "Action: Calculator\n",
      "Action Input: 89^.023\u001b[0m\n",
      "Observation: \u001b[33;1m\u001b[1;3mAnswer: 1.108755967155757\u001b[0m\n",
      "Thought:\u001b[32;1m\u001b[1;3m I now know the final answer.\n",
      "Final Answer: 1.108755967155757\u001b[0m\n",
      "\n",
      "\u001b[1m> Finished chain.\u001b[0m\n"
     ]
    },
    {
     "data": {
      "text/plain": [
       "'1.108755967155757'"
      ]
     },
     "execution_count": 30,
     "metadata": {},
     "output_type": "execute_result"
    }
   ],
   "source": [
    "# Let's test it out!\n",
    "agent.run(\"What was the high temperature in Mumbai yesterday in Fahrenheit? What is that number raised to the .023 power?\")"
   ]
  },
  {
   "cell_type": "code",
   "execution_count": 33,
   "id": "8c9e93d4",
   "metadata": {},
   "outputs": [
    {
     "name": "stdout",
     "output_type": "stream",
     "text": [
      "\n",
      "\n",
      "\u001b[1m> Entering new AgentExecutor chain...\u001b[0m\n",
      "\u001b[32;1m\u001b[1;3m I need to find out the number of wickets taken by Ashwin and then check if it is a prime number.\n",
      "Action: Search\n",
      "Action Input: \"Ravichandran Ashwin wickets against West Indies\"\u001b[0m\n",
      "Observation: \u001b[36;1m\u001b[1;3m5\u001b[0m\n",
      "Thought:\u001b[32;1m\u001b[1;3m I need to check if 5 is a prime number\n",
      "Action: Calculator\n",
      "Action Input: 5\u001b[0m\n",
      "Observation: \u001b[33;1m\u001b[1;3mAnswer: 5\u001b[0m\n",
      "Thought:\u001b[32;1m\u001b[1;3m I now know the final answer\n",
      "Final Answer: Ravichandran Ashwin took 5 wickets against West Indies and 5 is a prime number.\u001b[0m\n",
      "\n",
      "\u001b[1m> Finished chain.\u001b[0m\n"
     ]
    },
    {
     "data": {
      "text/plain": [
       "'Ravichandran Ashwin took 5 wickets against West Indies and 5 is a prime number.'"
      ]
     },
     "execution_count": 33,
     "metadata": {},
     "output_type": "execute_result"
    }
   ],
   "source": [
    "agent.run(\"How many wickets Ravichandran Ashwin took against West Indies in current match? Is it prime number?\")"
   ]
  },
  {
   "cell_type": "markdown",
   "id": "9787a73e",
   "metadata": {},
   "source": [
    "# Memory"
   ]
  },
  {
   "cell_type": "code",
   "execution_count": 34,
   "id": "31dade2d",
   "metadata": {},
   "outputs": [
    {
     "name": "stdout",
     "output_type": "stream",
     "text": [
      "\n",
      "\n",
      "\u001b[1m> Entering new ConversationChain chain...\u001b[0m\n",
      "Prompt after formatting:\n",
      "\u001b[32;1m\u001b[1;3mThe following is a friendly conversation between a human and an AI. The AI is talkative and provides lots of specific details from its context. If the AI does not know the answer to a question, it truthfully says it does not know.\n",
      "\n",
      "Current conversation:\n",
      "\n",
      "Human: My name is Sanjay, I am currently staying Pune. I have done BE in Computer\n",
      "AI:\u001b[0m\n"
     ]
    },
    {
     "name": "stderr",
     "output_type": "stream",
     "text": [
      "Retrying langchain.llms.openai.completion_with_retry.<locals>._completion_with_retry in 4.0 seconds as it raised APIConnectionError: Error communicating with OpenAI: ('Connection aborted.', ConnectionResetError(10054, 'An existing connection was forcibly closed by the remote host', None, 10054, None)).\n"
     ]
    },
    {
     "name": "stdout",
     "output_type": "stream",
     "text": [
      "\n",
      "\u001b[1m> Finished chain.\u001b[0m\n"
     ]
    },
    {
     "data": {
      "text/plain": [
       "\" Hi Sanjay, it's nice to meet you. I'm an AI and I'm programmed to answer questions about Pune. Can I help you with anything?\""
      ]
     },
     "execution_count": 34,
     "metadata": {},
     "output_type": "execute_result"
    }
   ],
   "source": [
    "from langchain import OpenAI, ConversationChain\n",
    "\n",
    "llm = OpenAI(temperature=0)\n",
    "conversation = ConversationChain(llm=llm, verbose=True)\n",
    "\n",
    "conversation.run(\"My name is Sanjay, I am currently staying Pune. I have done BE in Computer\")"
   ]
  },
  {
   "cell_type": "code",
   "execution_count": 35,
   "id": "dde440be",
   "metadata": {},
   "outputs": [
    {
     "name": "stdout",
     "output_type": "stream",
     "text": [
      "\n",
      "\n",
      "\u001b[1m> Entering new ConversationChain chain...\u001b[0m\n",
      "Prompt after formatting:\n",
      "\u001b[32;1m\u001b[1;3mThe following is a friendly conversation between a human and an AI. The AI is talkative and provides lots of specific details from its context. If the AI does not know the answer to a question, it truthfully says it does not know.\n",
      "\n",
      "Current conversation:\n",
      "Human: My name is Sanjay, I am currently staying Pune. I have done BE in Computer\n",
      "AI:  Hi Sanjay, it's nice to meet you. I'm an AI and I'm programmed to answer questions about Pune. Can I help you with anything?\n",
      "Human: Do you mind telling me full form of AI?\n",
      "AI:\u001b[0m\n",
      "\n",
      "\u001b[1m> Finished chain.\u001b[0m\n"
     ]
    },
    {
     "data": {
      "text/plain": [
       "' Sure, AI stands for Artificial Intelligence. It is a branch of computer science that focuses on creating intelligent machines that can think and act like humans.'"
      ]
     },
     "execution_count": 35,
     "metadata": {},
     "output_type": "execute_result"
    }
   ],
   "source": [
    "conversation.run(\"Do you mind telling me full form of AI?\")"
   ]
  },
  {
   "cell_type": "code",
   "execution_count": 36,
   "id": "4ec3940b",
   "metadata": {},
   "outputs": [
    {
     "name": "stdout",
     "output_type": "stream",
     "text": [
      "\n",
      "\n",
      "\u001b[1m> Entering new ConversationChain chain...\u001b[0m\n",
      "Prompt after formatting:\n",
      "\u001b[32;1m\u001b[1;3mThe following is a friendly conversation between a human and an AI. The AI is talkative and provides lots of specific details from its context. If the AI does not know the answer to a question, it truthfully says it does not know.\n",
      "\n",
      "Current conversation:\n",
      "Human: My name is Sanjay, I am currently staying Pune. I have done BE in Computer\n",
      "AI:  Hi Sanjay, it's nice to meet you. I'm an AI and I'm programmed to answer questions about Pune. Can I help you with anything?\n",
      "Human: Do you mind telling me full form of AI?\n",
      "AI:  Sure, AI stands for Artificial Intelligence. It is a branch of computer science that focuses on creating intelligent machines that can think and act like humans.\n",
      "Human: What is India capital?\n",
      "AI:\u001b[0m\n",
      "\n",
      "\u001b[1m> Finished chain.\u001b[0m\n"
     ]
    },
    {
     "data": {
      "text/plain": [
       "\" India's capital is New Delhi.\""
      ]
     },
     "execution_count": 36,
     "metadata": {},
     "output_type": "execute_result"
    }
   ],
   "source": [
    "conversation.run(\"What is India capital?\")"
   ]
  },
  {
   "cell_type": "code",
   "execution_count": 37,
   "id": "3c949b0b",
   "metadata": {},
   "outputs": [
    {
     "name": "stdout",
     "output_type": "stream",
     "text": [
      "\n",
      "\n",
      "\u001b[1m> Entering new ConversationChain chain...\u001b[0m\n",
      "Prompt after formatting:\n",
      "\u001b[32;1m\u001b[1;3mThe following is a friendly conversation between a human and an AI. The AI is talkative and provides lots of specific details from its context. If the AI does not know the answer to a question, it truthfully says it does not know.\n",
      "\n",
      "Current conversation:\n",
      "Human: My name is Sanjay, I am currently staying Pune. I have done BE in Computer\n",
      "AI:  Hi Sanjay, it's nice to meet you. I'm an AI and I'm programmed to answer questions about Pune. Can I help you with anything?\n",
      "Human: Do you mind telling me full form of AI?\n",
      "AI:  Sure, AI stands for Artificial Intelligence. It is a branch of computer science that focuses on creating intelligent machines that can think and act like humans.\n",
      "Human: What is India capital?\n",
      "AI:  India's capital is New Delhi.\n",
      "Human: Who is USA president?\n",
      "AI:\u001b[0m\n",
      "\n",
      "\u001b[1m> Finished chain.\u001b[0m\n"
     ]
    },
    {
     "data": {
      "text/plain": [
       "'  The current President of the United States is Joe Biden.'"
      ]
     },
     "execution_count": 37,
     "metadata": {},
     "output_type": "execute_result"
    }
   ],
   "source": [
    "conversation.run(\"Who is USA president?\")"
   ]
  },
  {
   "cell_type": "code",
   "execution_count": 38,
   "id": "11a9850c",
   "metadata": {},
   "outputs": [
    {
     "name": "stdout",
     "output_type": "stream",
     "text": [
      "\n",
      "\n",
      "\u001b[1m> Entering new ConversationChain chain...\u001b[0m\n",
      "Prompt after formatting:\n",
      "\u001b[32;1m\u001b[1;3mThe following is a friendly conversation between a human and an AI. The AI is talkative and provides lots of specific details from its context. If the AI does not know the answer to a question, it truthfully says it does not know.\n",
      "\n",
      "Current conversation:\n",
      "Human: My name is Sanjay, I am currently staying Pune. I have done BE in Computer\n",
      "AI:  Hi Sanjay, it's nice to meet you. I'm an AI and I'm programmed to answer questions about Pune. Can I help you with anything?\n",
      "Human: Do you mind telling me full form of AI?\n",
      "AI:  Sure, AI stands for Artificial Intelligence. It is a branch of computer science that focuses on creating intelligent machines that can think and act like humans.\n",
      "Human: What is India capital?\n",
      "AI:  India's capital is New Delhi.\n",
      "Human: Who is USA president?\n",
      "AI:   The current President of the United States is Joe Biden.\n",
      "Human: Have I done my BE in Electonics?\n",
      "AI:\u001b[0m\n",
      "\n",
      "\u001b[1m> Finished chain.\u001b[0m\n"
     ]
    },
    {
     "data": {
      "text/plain": [
       "' No, you said you have done BE in Computer.'"
      ]
     },
     "execution_count": 38,
     "metadata": {},
     "output_type": "execute_result"
    }
   ],
   "source": [
    "conversation.run(\"Have I done my BE in Electonics?\")"
   ]
  },
  {
   "cell_type": "code",
   "execution_count": null,
   "id": "98c27899",
   "metadata": {},
   "outputs": [],
   "source": []
  }
 ],
 "metadata": {
  "kernelspec": {
   "display_name": "Python 3 (ipykernel)",
   "language": "python",
   "name": "python3"
  },
  "language_info": {
   "codemirror_mode": {
    "name": "ipython",
    "version": 3
   },
   "file_extension": ".py",
   "mimetype": "text/x-python",
   "name": "python",
   "nbconvert_exporter": "python",
   "pygments_lexer": "ipython3",
   "version": "3.9.7"
  }
 },
 "nbformat": 4,
 "nbformat_minor": 5
}
